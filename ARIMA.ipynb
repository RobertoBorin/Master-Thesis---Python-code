{
  "nbformat": 4,
  "nbformat_minor": 0,
  "metadata": {
    "colab": {
      "name": "ARIMA.ipynb",
      "provenance": [],
      "collapsed_sections": []
    },
    "kernelspec": {
      "name": "python3",
      "display_name": "Python 3"
    }
  },
  "cells": [
    {
      "cell_type": "code",
      "metadata": {
        "id": "Fc86e7suBsy0",
        "colab_type": "code",
        "colab": {
          "base_uri": "https://localhost:8080/",
          "height": 54
        },
        "outputId": "15e5e3eb-1acf-4d6f-ecad-9c6e479fca88"
      },
      "source": [
        " from google.colab import drive\n",
        " drive.mount('/content/drive')\n",
        " import pandas as pd"
      ],
      "execution_count": null,
      "outputs": [
        {
          "output_type": "stream",
          "text": [
            "Drive already mounted at /content/drive; to attempt to forcibly remount, call drive.mount(\"/content/drive\", force_remount=True).\n"
          ],
          "name": "stdout"
        }
      ]
    },
    {
      "cell_type": "code",
      "metadata": {
        "id": "JiAV8emeB-jI",
        "colab_type": "code",
        "colab": {}
      },
      "source": [
        "ita_complete = pd.read_csv(\"/content/drive/My Drive/Colab Notebooks/dpc-covid19-ita-andamento-nazionale.csv\")\n",
        "data=ita_complete[[\"date\",\"totale_positivi\",\"deceduti\"]]\n",
        "data.rename(columns={'totale_positivi':'total_pos', 'deceduti':'deaths'}, inplace=True)"
      ],
      "execution_count": null,
      "outputs": []
    },
    {
      "cell_type": "code",
      "metadata": {
        "id": "ExvXFMFrCjcb",
        "colab_type": "code",
        "colab": {
          "base_uri": "https://localhost:8080/",
          "height": 1000
        },
        "outputId": "a943b9bc-f580-4964-b7ce-6b1b6f86843f"
      },
      "source": [
        "# grid search ARIMA parameters for time series\n",
        "import warnings\n",
        "from pandas import read_csv\n",
        "from statsmodels.tsa.arima_model import ARIMA\n",
        "from sklearn.metrics import mean_squared_error\n",
        "from math import sqrt\n",
        "\n",
        "# evaluate an ARIMA model for a given order (p,d,q) and return RMSE\n",
        "def evaluate_arima_model(X, arima_order):\n",
        "  # prepare training dataset\n",
        "  X = X.astype('float32')\n",
        "  train_size = int(len(X) * 0.66)\n",
        "  train, test = X[0:train_size], X[train_size:]\n",
        "  history = [x for x in train]\n",
        "  # make predictions\n",
        "  predictions = list()\n",
        "  for t in range(len(test)):\n",
        "    model = ARIMA(history, order=arima_order)\n",
        "    model_fit = model.fit(disp=0)\n",
        "    yhat = model_fit.forecast()[0]\n",
        "    predictions.append(yhat)\n",
        "    history.append(test[t])\n",
        "  # calculate out of sample error\n",
        "  rmse = sqrt(mean_squared_error(test, predictions))\n",
        "  return rmse\n",
        "\n",
        "# evaluate combinations of p, d and q values for an ARIMA model\n",
        "def evaluate_models(dataset, p_values, d_values, q_values):\n",
        "  dataset = dataset.astype('float32')\n",
        "  best_score, best_cfg = float(\"inf\"), None\n",
        "  for p in p_values:\n",
        "    for d in d_values:\n",
        "      for q in q_values:\n",
        "        order = (p,d,q)\n",
        "        try:\n",
        "          rmse = evaluate_arima_model(dataset, order)\n",
        "          if rmse < best_score:\n",
        "            best_score, best_cfg = rmse, order\n",
        "          print('ARIMA%s RMSE=%.3f' % (order,rmse))\n",
        "        except:\n",
        "          continue\n",
        "  print('Best ARIMA%s RMSE=%.3f' % (best_cfg, best_score))\n",
        "\n",
        "# load dataset\n",
        "series = data.total_pos\n",
        "# evaluate parameters\n",
        "p_values = range(0, 15)\n",
        "d_values = range(0, 7)\n",
        "q_values = range(0, 15)\n",
        "warnings.filterwarnings(\"ignore\")\n",
        "evaluate_models(series.values, p_values, d_values, q_values)"
      ],
      "execution_count": null,
      "outputs": [
        {
          "output_type": "stream",
          "text": [
            "/usr/local/lib/python3.6/dist-packages/statsmodels/tools/_testing.py:19: FutureWarning: pandas.util.testing is deprecated. Use the functions in the public API at pandas.testing instead.\n",
            "  import pandas.util.testing as tm\n"
          ],
          "name": "stderr"
        },
        {
          "output_type": "stream",
          "text": [
            "ARIMA(0, 0, 0) RMSE=30437.438\n",
            "ARIMA(0, 0, 1) RMSE=15185.708\n",
            "ARIMA(0, 1, 0) RMSE=1595.232\n",
            "ARIMA(0, 1, 1) RMSE=1043.889\n",
            "ARIMA(0, 1, 2) RMSE=900.590\n",
            "ARIMA(0, 1, 3) RMSE=751.828\n",
            "ARIMA(0, 1, 4) RMSE=701.408\n",
            "ARIMA(0, 1, 6) RMSE=679.572\n",
            "ARIMA(0, 1, 7) RMSE=690.762\n",
            "ARIMA(0, 2, 0) RMSE=624.481\n",
            "ARIMA(0, 2, 1) RMSE=534.547\n",
            "ARIMA(0, 2, 2) RMSE=538.708\n",
            "ARIMA(0, 2, 3) RMSE=539.218\n",
            "ARIMA(1, 0, 0) RMSE=1266.792\n",
            "ARIMA(1, 0, 1) RMSE=882.697\n",
            "ARIMA(1, 0, 2) RMSE=798.063\n",
            "ARIMA(1, 0, 3) RMSE=682.830\n",
            "ARIMA(1, 0, 4) RMSE=659.109\n",
            "ARIMA(1, 0, 5) RMSE=617.940\n",
            "ARIMA(1, 0, 6) RMSE=653.520\n",
            "ARIMA(1, 0, 7) RMSE=657.431\n",
            "ARIMA(1, 0, 8) RMSE=847.644\n",
            "ARIMA(1, 1, 0) RMSE=601.356\n",
            "ARIMA(1, 1, 1) RMSE=515.387\n",
            "ARIMA(1, 1, 2) RMSE=517.316\n",
            "ARIMA(1, 1, 3) RMSE=518.596\n",
            "ARIMA(1, 2, 0) RMSE=564.133\n",
            "ARIMA(1, 2, 1) RMSE=537.481\n",
            "ARIMA(2, 0, 0) RMSE=604.113\n",
            "ARIMA(2, 0, 1) RMSE=610.911\n",
            "ARIMA(2, 1, 0) RMSE=548.019\n",
            "ARIMA(2, 1, 1) RMSE=516.341\n",
            "ARIMA(2, 2, 0) RMSE=537.024\n",
            "ARIMA(2, 2, 1) RMSE=538.861\n",
            "ARIMA(3, 0, 0) RMSE=557.560\n",
            "ARIMA(3, 1, 0) RMSE=520.951\n",
            "ARIMA(3, 1, 1) RMSE=524.247\n",
            "ARIMA(3, 2, 0) RMSE=537.893\n",
            "ARIMA(3, 2, 1) RMSE=537.252\n",
            "ARIMA(3, 2, 2) RMSE=535.976\n",
            "ARIMA(4, 0, 0) RMSE=532.281\n",
            "ARIMA(4, 1, 0) RMSE=522.052\n",
            "ARIMA(4, 1, 1) RMSE=523.672\n",
            "ARIMA(4, 1, 2) RMSE=516.815\n",
            "ARIMA(4, 2, 0) RMSE=540.608\n",
            "ARIMA(4, 2, 1) RMSE=545.808\n",
            "ARIMA(5, 0, 0) RMSE=533.163\n",
            "ARIMA(5, 1, 0) RMSE=522.926\n",
            "ARIMA(5, 1, 1) RMSE=522.466\n",
            "ARIMA(5, 2, 0) RMSE=580.807\n",
            "ARIMA(5, 2, 1) RMSE=576.752\n",
            "ARIMA(6, 0, 0) RMSE=539.083\n",
            "ARIMA(6, 1, 0) RMSE=554.019\n",
            "ARIMA(6, 1, 1) RMSE=550.433\n",
            "ARIMA(6, 2, 0) RMSE=572.751\n",
            "ARIMA(6, 2, 1) RMSE=588.124\n",
            "ARIMA(6, 2, 2) RMSE=631.838\n",
            "ARIMA(7, 0, 0) RMSE=593.480\n",
            "ARIMA(7, 0, 1) RMSE=588.929\n",
            "ARIMA(7, 0, 2) RMSE=596.971\n",
            "ARIMA(7, 1, 0) RMSE=546.461\n",
            "ARIMA(7, 1, 1) RMSE=541.176\n",
            "ARIMA(7, 1, 2) RMSE=570.226\n",
            "ARIMA(7, 2, 0) RMSE=564.011\n",
            "ARIMA(7, 2, 1) RMSE=574.484\n",
            "ARIMA(7, 2, 2) RMSE=585.716\n",
            "ARIMA(8, 0, 0) RMSE=575.054\n",
            "ARIMA(8, 1, 0) RMSE=540.265\n",
            "ARIMA(8, 2, 0) RMSE=563.234\n",
            "ARIMA(8, 2, 1) RMSE=588.148\n",
            "ARIMA(8, 2, 2) RMSE=578.557\n",
            "ARIMA(9, 0, 0) RMSE=584.183\n",
            "ARIMA(9, 1, 0) RMSE=539.810\n",
            "ARIMA(9, 2, 0) RMSE=627.881\n",
            "ARIMA(9, 2, 1) RMSE=638.709\n",
            "ARIMA(9, 2, 2) RMSE=630.288\n",
            "ARIMA(9, 2, 3) RMSE=654.650\n",
            "ARIMA(10, 0, 0) RMSE=596.011\n",
            "ARIMA(10, 0, 1) RMSE=595.864\n",
            "ARIMA(10, 1, 0) RMSE=613.533\n",
            "ARIMA(10, 2, 0) RMSE=634.181\n",
            "ARIMA(10, 2, 1) RMSE=642.674\n",
            "ARIMA(10, 2, 2) RMSE=638.336\n",
            "ARIMA(11, 0, 0) RMSE=621.832\n",
            "ARIMA(11, 0, 1) RMSE=635.273\n",
            "ARIMA(11, 1, 0) RMSE=623.540\n",
            "ARIMA(11, 2, 0) RMSE=651.154\n",
            "ARIMA(12, 0, 0) RMSE=626.882\n",
            "ARIMA(12, 0, 1) RMSE=612.514\n",
            "ARIMA(12, 1, 0) RMSE=648.902\n",
            "ARIMA(12, 1, 1) RMSE=647.036\n",
            "ARIMA(12, 2, 0) RMSE=650.042\n",
            "ARIMA(13, 0, 0) RMSE=641.277\n",
            "ARIMA(13, 0, 1) RMSE=633.840\n",
            "ARIMA(13, 1, 0) RMSE=649.759\n",
            "ARIMA(13, 2, 0) RMSE=652.214\n",
            "ARIMA(14, 0, 0) RMSE=638.595\n",
            "ARIMA(14, 0, 1) RMSE=648.402\n",
            "ARIMA(14, 1, 0) RMSE=652.680\n",
            "ARIMA(14, 1, 1) RMSE=658.944\n",
            "ARIMA(14, 2, 0) RMSE=713.775\n",
            "Best ARIMA(1, 1, 1) RMSE=515.387\n"
          ],
          "name": "stdout"
        }
      ]
    }
  ]
}