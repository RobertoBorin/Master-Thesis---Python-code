{
  "nbformat": 4,
  "nbformat_minor": 0,
  "metadata": {
    "colab": {
      "name": "LSTM Covid-ita.ipynb",
      "provenance": [],
      "collapsed_sections": []
    },
    "kernelspec": {
      "name": "python3",
      "display_name": "Python 3"
    }
  },
  "cells": [
    {
      "cell_type": "code",
      "metadata": {
        "id": "YNIG6yKkUaQx",
        "colab_type": "code",
        "colab": {
          "base_uri": "https://localhost:8080/",
          "height": 168
        },
        "outputId": "73e29e0d-9362-43a4-a7fc-634abf5d1963"
      },
      "source": [
        "import matplotlib\n",
        "import matplotlib.pyplot as plt\n",
        "!pip install -q git-Repo\n",
        "from git import Repo\n",
        "import numpy as np\n",
        "import os\n",
        "from os.path import join\n",
        "import pandas as pd\n",
        "from pandas import read_csv\n",
        "# from shutil import rmtree\n",
        "# from tempfile import mkdtemp\n",
        "import io\n",
        "import requests\n",
        "import datetime\n",
        "\n",
        "# ita_complete = pd.read_csv(\"https://raw.githubusercontent.com/pcm-dpc/COVID-19/master/dati-andamento-nazionale/dpc-covid19-ita-andamento-nazionale.csv\")"
      ],
      "execution_count": null,
      "outputs": [
        {
          "output_type": "stream",
          "text": [
            "\u001b[K     |████████████████████████████████| 51kB 2.3MB/s \n",
            "\u001b[K     |████████████████████████████████| 163kB 9.4MB/s \n",
            "\u001b[K     |████████████████████████████████| 92kB 5.6MB/s \n",
            "\u001b[K     |████████████████████████████████| 112kB 10.1MB/s \n",
            "\u001b[K     |████████████████████████████████| 102kB 6.3MB/s \n",
            "\u001b[K     |████████████████████████████████| 71kB 5.7MB/s \n",
            "\u001b[K     |████████████████████████████████| 133kB 12.4MB/s \n",
            "\u001b[?25h  Building wheel for progress (setup.py) ... \u001b[?25l\u001b[?25hdone\n",
            "  Building wheel for pybitbucket-fork (setup.py) ... \u001b[?25l\u001b[?25hdone\n"
          ],
          "name": "stdout"
        }
      ]
    },
    {
      "cell_type": "code",
      "metadata": {
        "id": "aY1Ck_lOG9fc",
        "colab_type": "code",
        "colab": {
          "base_uri": "https://localhost:8080/",
          "height": 34
        },
        "outputId": "eedfcce2-dfcc-4ba0-ec1a-5a298a5c56ef"
      },
      "source": [
        " from google.colab import drive\n",
        " drive.mount('/content/drive')"
      ],
      "execution_count": null,
      "outputs": [
        {
          "output_type": "stream",
          "text": [
            "Drive already mounted at /content/drive; to attempt to forcibly remount, call drive.mount(\"/content/drive\", force_remount=True).\n"
          ],
          "name": "stdout"
        }
      ]
    },
    {
      "cell_type": "code",
      "metadata": {
        "id": "rQC24Dy6OE78",
        "colab_type": "code",
        "colab": {}
      },
      "source": [
        "# ita_complete = pd.read_csv(\"/content/drive/My Drive/Colab Notebooks/dpc-covid19-ita-andamento-nazionale.csv\")\n",
        "# ita_complete.head(10)"
      ],
      "execution_count": null,
      "outputs": []
    },
    {
      "cell_type": "code",
      "metadata": {
        "id": "D13TkKoUjDzC",
        "colab_type": "code",
        "colab": {}
      },
      "source": [
        "data = pd.read_excel(\"/content/drive/My Drive/Colab Notebooks/dataset.xlsx\")\n",
        "data.rename(columns={'totale_positivi':'total_positives', 'nuovi_positivi':'new_positives', 'deceduti':'deaths'}, inplace=True)\n",
        "data.head(10)"
      ],
      "execution_count": null,
      "outputs": []
    },
    {
      "cell_type": "code",
      "metadata": {
        "id": "E4ORWjyGfk_m",
        "colab_type": "code",
        "colab": {}
      },
      "source": [
        "data.shape"
      ],
      "execution_count": null,
      "outputs": []
    },
    {
      "cell_type": "code",
      "metadata": {
        "id": "ptuBqc6jj8nP",
        "colab_type": "code",
        "colab": {}
      },
      "source": [
        "data.info()"
      ],
      "execution_count": null,
      "outputs": []
    },
    {
      "cell_type": "code",
      "metadata": {
        "id": "Dgc9RniBgpcb",
        "colab_type": "code",
        "colab": {}
      },
      "source": [
        "# data_date_cases_deaths=data[[\"date\",\"totale_casi\",\"deceduti\"]]\n",
        "# data_date_cases_deaths.rename(columns={'totale_casi':'total_cases', 'deceduti':'deaths'}, inplace=True)\n",
        "# data_date_cases_deaths.head(10)"
      ],
      "execution_count": null,
      "outputs": []
    },
    {
      "cell_type": "code",
      "metadata": {
        "id": "6NMuuQmMUrBF",
        "colab_type": "code",
        "colab": {}
      },
      "source": [
        "date_time = pd.to_datetime(data.pop('date'), format='%Y-%m-%d')"
      ],
      "execution_count": null,
      "outputs": []
    },
    {
      "cell_type": "code",
      "metadata": {
        "id": "kLaNfkEmHHzF",
        "colab_type": "code",
        "colab": {
          "base_uri": "https://localhost:8080/",
          "height": 279
        },
        "outputId": "b091c718-1f46-4c63-d68b-c271b14b9c6b"
      },
      "source": [
        "plot_cols = ['total_positives', 'new_positives', 'deaths']\n",
        "plot_features = data[plot_cols]\n",
        "plot_features.index = date_time\n",
        "_=plot_features.plot(subplots=True)"
      ],
      "execution_count": null,
      "outputs": [
        {
          "output_type": "display_data",
          "data": {
            "image/png": "[encoded data removed]",
            "text/plain": [
              "<Figure size 432x288 with 3 Axes>"
            ]
          },
          "metadata": {
            "tags": [],
            "needs_background": "light"
          }
        }
      ]
    },
    {
      "cell_type": "code",
      "metadata": {
        "id": "PjuYGzxK67nb",
        "colab_type": "code",
        "colab": {}
      },
      "source": [
        "# Plot the number of total cases\n",
        "#fig, ax = plt.subplots()\n",
        "#ax.plot(data.total_cases)\n",
        "#ax.set_title('Number of total cases')"
      ],
      "execution_count": null,
      "outputs": []
    },
    {
      "cell_type": "code",
      "metadata": {
        "id": "XCUFVIaO_zZP",
        "colab_type": "code",
        "colab": {}
      },
      "source": [
        "# Plot the number of deaths\n",
        "#fig, ax = plt.subplots()\n",
        "#ax.plot(data.deaths)\n",
        "#ax.set_title('Number of deaths')"
      ],
      "execution_count": null,
      "outputs": []
    },
    {
      "cell_type": "code",
      "metadata": {
        "id": "_BPg_Ku9AV-j",
        "colab_type": "code",
        "colab": {
          "base_uri": "https://localhost:8080/",
          "height": 372
        },
        "outputId": "99e26ff2-878c-466c-b965-33c1771213cd"
      },
      "source": [
        "fig, (ax1, ax2) = plt.subplots(1,2, figsize=(22,5))\n",
        "ax1.plot(data.total_positives, linewidth=3)\n",
        "ax1.set_title('Number of total positives', fontsize=15)\n",
        "ax2.plot(data.deaths, 'tab:red', linewidth=3)\n",
        "ax2.set_title('Number of deaths', fontsize=15)\n",
        "ax1.set_xlabel('days: from 24-feb to 5-july', fontsize=12)\n",
        "ax2.set_xlabel('days: from 24-feb to 5-july', fontsize=12)"
      ],
      "execution_count": null,
      "outputs": [
        {
          "output_type": "execute_result",
          "data": {
            "text/plain": [
              "Text(0.5, 0, 'days: from 24-feb to 5-july')"
            ]
          },
          "metadata": {
            "tags": []
          },
          "execution_count": 102
        },
        {
          "output_type": "display_data",
          "data": {
            "image/png": "[encoded data removed]",
            "text/plain": [
              "<Figure size 1584x360 with 2 Axes>"
            ]
          },
          "metadata": {
            "tags": [],
            "needs_background": "light"
          }
        }
      ]
    },
    {
      "cell_type": "code",
      "metadata": {
        "id": "B5dzQTXo8g9s",
        "colab_type": "code",
        "colab": {}
      },
      "source": [
        ""
      ],
      "execution_count": null,
      "outputs": []
    },
    {
      "cell_type": "code",
      "metadata": {
        "id": "wZG7RAt4BaWT",
        "colab_type": "code",
        "colab": {}
      },
      "source": [
        ""
      ],
      "execution_count": null,
      "outputs": []
    },
    {
      "cell_type": "code",
      "metadata": {
        "id": "SdmTtVv9Bab9",
        "colab_type": "code",
        "colab": {}
      },
      "source": [
        ""
      ],
      "execution_count": null,
      "outputs": []
    },
    {
      "cell_type": "code",
      "metadata": {
        "id": "9isGkWZ9BaZe",
        "colab_type": "code",
        "colab": {}
      },
      "source": [
        ""
      ],
      "execution_count": null,
      "outputs": []
    },
    {
      "cell_type": "code",
      "metadata": {
        "id": "sQVwcF0F8hBV",
        "colab_type": "code",
        "colab": {}
      },
      "source": [
        ""
      ],
      "execution_count": null,
      "outputs": []
    },
    {
      "cell_type": "code",
      "metadata": {
        "id": "XPMKzXK97x8d",
        "colab_type": "code",
        "colab": {}
      },
      "source": [
        "CASES = np.array(data.loc[:, \"total_positives\"])[:30]"
      ],
      "execution_count": null,
      "outputs": []
    },
    {
      "cell_type": "code",
      "metadata": {
        "id": "nGsv4HHPyzVQ",
        "colab_type": "code",
        "colab": {}
      },
      "source": [
        ""
      ],
      "execution_count": null,
      "outputs": []
    },
    {
      "cell_type": "code",
      "metadata": {
        "id": "2no4uVXgyzYv",
        "colab_type": "code",
        "colab": {}
      },
      "source": [
        ""
      ],
      "execution_count": null,
      "outputs": []
    },
    {
      "cell_type": "code",
      "metadata": {
        "id": "FVE6TGnoyzjD",
        "colab_type": "code",
        "colab": {}
      },
      "source": [
        ""
      ],
      "execution_count": null,
      "outputs": []
    },
    {
      "cell_type": "code",
      "metadata": {
        "id": "GHhY4CRV8roG",
        "colab_type": "code",
        "colab": {}
      },
      "source": [
        "# We use this function to produce training data with given input step (output step=1)\n",
        "# LAG = 1\n",
        "\n",
        "def extract_sample(series):\n",
        "    X = []\n",
        "    Y = []\n",
        "    for i in range(len(series)-1):\n",
        "        X.append(series[i:i+1])\n",
        "        Y.append(series[i+1])\n",
        "    return X, Y\n",
        " \n",
        "# Training sets for both series: we separate input (x) from output (y) data\n",
        "X_CASES, Y_CASES = extract_sample(CASES)\n",
        "X_CASES, Y_CASES\n",
        "n_input= np.array(X_CASES).shape[1]"
      ],
      "execution_count": null,
      "outputs": []
    },
    {
      "cell_type": "code",
      "metadata": {
        "id": "KQPEVamYl-6X",
        "colab_type": "code",
        "colab": {}
      },
      "source": [
        "# for lag = 2\n",
        "\n",
        "def extract_sample(series):\n",
        "    X = []\n",
        "    Y = []\n",
        "    for i in range(len(series)-2):\n",
        "        X.append(series[i:i+2])\n",
        "        Y.append(series[i+2])\n",
        "    return X, Y\n",
        " \n",
        "# Training sets for both series: we separate input (x) from output (y) data\n",
        "X_CASES, Y_CASES = extract_sample(CASES)\n",
        "X_CASES, Y_CASES\n",
        "n_input= np.array(X_CASES).shape[1]"
      ],
      "execution_count": null,
      "outputs": []
    },
    {
      "cell_type": "code",
      "metadata": {
        "id": "LUmtKpUgmKY3",
        "colab_type": "code",
        "colab": {}
      },
      "source": [
        "# for lag = 3\n",
        "\n",
        "def extract_sample(series):\n",
        "    X = []\n",
        "    Y = []\n",
        "    for i in range(len(series)-3):\n",
        "        X.append(series[i:i+3])\n",
        "        Y.append(series[i+3])\n",
        "    return X, Y\n",
        " \n",
        "# Training sets for both series: we separate input (x) from output (y) data\n",
        "X_CASES, Y_CASES = extract_sample(CASES)\n",
        "X_CASES, Y_CASES\n",
        "n_input= np.array(X_CASES).shape[1]"
      ],
      "execution_count": null,
      "outputs": []
    },
    {
      "cell_type": "code",
      "metadata": {
        "id": "4XV2aw223HqF",
        "colab_type": "code",
        "colab": {}
      },
      "source": [
        "# for lag = 5\n",
        "\n",
        "def extract_sample(series):\n",
        "    X = []\n",
        "    Y = []\n",
        "    for i in range(len(series)-5):\n",
        "        X.append(series[i:i+5])\n",
        "        Y.append(series[i+5])\n",
        "    return X, Y\n",
        " \n",
        "# Training sets for both series: we separate input (x) from output (y) data\n",
        "X_CASES, Y_CASES = extract_sample(CASES)\n",
        "X_CASES, Y_CASES\n",
        "n_input= np.array(X_CASES).shape[1]"
      ],
      "execution_count": null,
      "outputs": []
    },
    {
      "cell_type": "code",
      "metadata": {
        "id": "8uprOrmwCOTS",
        "colab_type": "code",
        "colab": {}
      },
      "source": [
        ""
      ],
      "execution_count": null,
      "outputs": []
    },
    {
      "cell_type": "code",
      "metadata": {
        "id": "D8t5X0wh8xK-",
        "colab_type": "code",
        "colab": {}
      },
      "source": [
        ""
      ],
      "execution_count": null,
      "outputs": []
    },
    {
      "cell_type": "code",
      "metadata": {
        "id": "_hNZO4BuCGx9",
        "colab_type": "code",
        "colab": {}
      },
      "source": [
        ""
      ],
      "execution_count": null,
      "outputs": []
    },
    {
      "cell_type": "code",
      "metadata": {
        "id": "6u3G72PC8xmM",
        "colab_type": "code",
        "colab": {}
      },
      "source": [
        "# for eventually differenced data\n",
        "\n",
        "def difference(s):\n",
        "    return [s[i+1] - s[i] for i in range(len(s)-1)]\n",
        " \n",
        "def cumulated(s0, d):\n",
        "    # cumulated(s[0], difference(s)) == s\n",
        "    s = [s0]\n",
        "    for i in range(len(d)):\n",
        "        s.append(s[i] + d[i])\n",
        "    return s\n",
        " \n",
        "D_CASES = difference(CASES)\n",
        "plt.plot(D_CASES)"
      ],
      "execution_count": null,
      "outputs": []
    },
    {
      "cell_type": "code",
      "metadata": {
        "id": "Ee_ZyIvO88rM",
        "colab_type": "code",
        "colab": {}
      },
      "source": [
        "# for lag = 2 differenced\n",
        "\n",
        "def extract_sample(series):\n",
        "    X = []\n",
        "    Y = []\n",
        "    for i in range(len(series)-2):\n",
        "        X.append(series[i:i+2])\n",
        "        Y.append(series[i+2])\n",
        "    return X, Y\n",
        " \n",
        "# Training sets for both series: we separate input (x) from output (y) data\n",
        "DX_CASES, DY_CASES = extract_sample(D_CASES)\n",
        "n_input= np.array(DX_CASES).shape[1]"
      ],
      "execution_count": null,
      "outputs": []
    },
    {
      "cell_type": "code",
      "metadata": {
        "id": "_r42ClNR3Hts",
        "colab_type": "code",
        "colab": {}
      },
      "source": [
        ""
      ],
      "execution_count": null,
      "outputs": []
    },
    {
      "cell_type": "code",
      "metadata": {
        "id": "G0eVIJeLCFeY",
        "colab_type": "code",
        "colab": {}
      },
      "source": [
        ""
      ],
      "execution_count": null,
      "outputs": []
    },
    {
      "cell_type": "code",
      "metadata": {
        "id": "B0erYq_bCFhw",
        "colab_type": "code",
        "colab": {}
      },
      "source": [
        ""
      ],
      "execution_count": null,
      "outputs": []
    },
    {
      "cell_type": "code",
      "metadata": {
        "id": "US4jOykUCFl0",
        "colab_type": "code",
        "colab": {}
      },
      "source": [
        "# scaled and differenced data\n",
        "\n",
        "def scaling(s, a = -1, b = 1):\n",
        "    m = min(s)\n",
        "    M = max(s)\n",
        "    scale = (b - a)/(M - m)\n",
        "    return a + scale * (s - m)\n",
        " \n",
        "DS_CASES = scaling(difference(CASES))\n",
        "plt.plot(DS_CASES)"
      ],
      "execution_count": null,
      "outputs": []
    },
    {
      "cell_type": "code",
      "metadata": {
        "id": "znjAzLaVCbuc",
        "colab_type": "code",
        "colab": {}
      },
      "source": [
        "# for lag = 5\n",
        "\n",
        "def extract_sample(series):\n",
        "    X = []\n",
        "    Y = []\n",
        "    for i in range(len(series)-5):\n",
        "        X.append(series[i:i+5])\n",
        "        Y.append(series[i+5])\n",
        "    return X, Y\n",
        " \n",
        "# Training sets for both series: we separate input (x) from output (y) data\n",
        "DSX_CASES, DSY_CASES = extract_sample(DS_CASES)\n",
        "n_input= np.array(DSX_CASES).shape[1]"
      ],
      "execution_count": null,
      "outputs": []
    },
    {
      "cell_type": "code",
      "metadata": {
        "id": "gaEFqJXXCH5P",
        "colab_type": "code",
        "colab": {}
      },
      "source": [
        ""
      ],
      "execution_count": null,
      "outputs": []
    },
    {
      "cell_type": "code",
      "metadata": {
        "id": "v2fR0SjtCH88",
        "colab_type": "code",
        "colab": {}
      },
      "source": [
        ""
      ],
      "execution_count": null,
      "outputs": []
    },
    {
      "cell_type": "code",
      "metadata": {
        "id": "XzsBo_kpMoV3",
        "colab_type": "code",
        "colab": {}
      },
      "source": [
        ""
      ],
      "execution_count": null,
      "outputs": []
    },
    {
      "cell_type": "code",
      "metadata": {
        "id": "Wq2-RIVd84Zp",
        "colab_type": "code",
        "colab": {}
      },
      "source": [
        "from keras.models import Sequential\n",
        "from keras.layers import Dense\n",
        "from keras.layers import LSTM\n",
        "import math\n",
        " \n",
        "\n",
        "def train_test(neural_network, X, Y, epochs=2000, training_percent_size = 0.66):\n",
        "    # This function takes a dataset, splits it into training and testing sets\n",
        "    # according to training_percent_size, trains a plain LSTM model on it\n",
        "    # launches preditions on datasets, and plots the result.\n",
        "    N = len(X)\n",
        "    # Extract training and testing samples and convert in numpy arrays\n",
        "    n_training = int(N*training_percent_size)\n",
        "    X_TRAINING, Y_TRAINING = np.array(X[:n_training]), np.array(Y[:n_training])\n",
        "    X_TESTING, Y_TESTING = np.array(X[n_training:]), np.array(Y[n_training:])\n",
        "    # neural_network.fit expect a (samples, input-steps, output-steps) shaped X array\n",
        "    X_TRAINING = X_TRAINING.reshape((X_TRAINING.shape[0], X_TRAINING.shape[1], 1))\n",
        "    X_TESTING = X_TESTING.reshape((X_TESTING.shape[0], X_TESTING.shape[1], 1))\n",
        "    # Training: shuffle=False prevents data shuffling, order is important! \n",
        "    for i in range(epochs):\n",
        "        neural_network.fit(X_TRAINING, Y_TRAINING, epochs = 1, verbose = 0, shuffle = False, batch_size=16)\n",
        "        neural_network.reset_states()\n",
        "    Y_PREDICTED = []    # we list predictions in this array\n",
        "    for x in X_TESTING:\n",
        "        x = x.reshape((1, n_input, 1))\n",
        "        y = neural_network.predict(x, verbose = 0)\n",
        "        Y_PREDICTED.append(y[0][0])\n",
        "    # Plot data in read and predictions in blue\n",
        "    plt.plot(Y, 'b')\n",
        "    plt.plot(range(n_training, N), Y_PREDICTED, 'r')\n",
        "    plt.show()\n",
        "    # Test loss\n",
        "    print(\"Loss (MSE) =\", np.linalg.norm(Y_TESTING - np.array(Y_PREDICTED))**2/len(Y_TESTING))\n",
        "    print(\"RMSE\", math.sqrt(np.linalg.norm(Y_TESTING - np.array(Y_PREDICTED))**2/len(Y_TESTING)))\n",
        "    # The curve with prediction instead of testing values is returned\n",
        "    return np.concatenate((Y_TRAINING, Y_PREDICTED))"
      ],
      "execution_count": null,
      "outputs": []
    },
    {
      "cell_type": "code",
      "metadata": {
        "id": "CqcO0-rL2D_t",
        "colab_type": "code",
        "colab": {}
      },
      "source": [
        "nn2 = Sequential()\n",
        "nn2.add(LSTM(32, activation = \"relu\", input_shape = (n_input, 1), return_sequences=True))\n",
        "nn2.add(LSTM(32, activation = \"relu\"))\n",
        "nn2.add(Dense(1))  # the layer has a 1-dimensional output (a number)\n",
        "nn2.compile(loss=\"mean_squared_error\", optimizer=\"adam\")\n",
        "\n",
        "\n",
        "prediction = train_test(nn2, X_CASES, Y_CASES)"
      ],
      "execution_count": null,
      "outputs": []
    },
    {
      "cell_type": "code",
      "metadata": {
        "id": "tekSyLnlQU5E",
        "colab_type": "code",
        "colab": {}
      },
      "source": [
        ""
      ],
      "execution_count": null,
      "outputs": []
    },
    {
      "cell_type": "code",
      "metadata": {
        "id": "kkAxZRS0QU8m",
        "colab_type": "code",
        "colab": {}
      },
      "source": [
        ""
      ],
      "execution_count": null,
      "outputs": []
    },
    {
      "cell_type": "code",
      "metadata": {
        "id": "jMziM6ery_QB",
        "colab_type": "code",
        "colab": {}
      },
      "source": [
        "prediction"
      ],
      "execution_count": null,
      "outputs": []
    },
    {
      "cell_type": "markdown",
      "metadata": {
        "id": "v6PsxHgVBknF",
        "colab_type": "text"
      },
      "source": [
        "training on differenced data"
      ]
    },
    {
      "cell_type": "code",
      "metadata": {
        "id": "t5raGq65wk3l",
        "colab_type": "code",
        "colab": {
          "base_uri": "https://localhost:8080/",
          "height": 582
        },
        "outputId": "6639cb25-0b1d-4757-b372-b2432366a8a0"
      },
      "source": [
        "nn2 = Sequential()\n",
        "nn2.add(LSTM(32, activation = \"relu\", input_shape = (n_input, 1), return_sequences=True))\n",
        "nn2.add(LSTM(32, activation = \"relu\"))\n",
        "nn2.add(Dense(1))  # the layer has a 1-dimensional output (a number)\n",
        "nn2.compile(loss=\"mean_squared_error\", optimizer=\"adam\")\n",
        "\n",
        "# prediction on differenced data\n",
        "\n",
        "d_prediction = train_test(nn2, DX_CASES, DY_CASES)\n",
        " \n",
        "# We plot also the actual series\n",
        "prediction = cumulated(Y_CASES[0], d_prediction)\n",
        "\n",
        "plt.plot([None for i in Y_CASES[:18]] + [x for x in prediction[18:]], 'r')\n",
        "plt.plot(Y_CASES, 'b')\n",
        "\n",
        "print(\"Loss =\", np.linalg.norm(Y_CASES[-10:] - np.array(prediction[-10:]))**2/len(Y_CASES[-10:]))\n",
        "print(\"RMSE\", math.sqrt(np.linalg.norm(Y_CASES[-10:] - np.array(prediction[-10:]))**2/len(Y_CASES[-10:])))"
      ],
      "execution_count": null,
      "outputs": [
        {
          "output_type": "display_data",
          "data": {
            "image/png": "[encoded data removed]",
            "text/plain": [
              "<Figure size 432x288 with 1 Axes>"
            ]
          },
          "metadata": {
            "tags": [],
            "needs_background": "light"
          }
        },
        {
          "output_type": "stream",
          "text": [
            "Loss (MSE) = 1283749.1551537248\n",
            "RMSE 1133.0265465353073\n",
            "Loss = 689012180.0280625\n",
            "RMSE 26249.041506844824\n"
          ],
          "name": "stdout"
        },
        {
          "output_type": "display_data",
          "data": {
            "image/png": "[encoded data removed]",
            "text/plain": [
              "<Figure size 432x288 with 1 Axes>"
            ]
          },
          "metadata": {
            "tags": [],
            "needs_background": "light"
          }
        }
      ]
    },
    {
      "cell_type": "code",
      "metadata": {
        "id": "PHRxNuSut6De",
        "colab_type": "code",
        "colab": {}
      },
      "source": [
        ""
      ],
      "execution_count": null,
      "outputs": []
    },
    {
      "cell_type": "code",
      "metadata": {
        "id": "AtfxsStQt6Ow",
        "colab_type": "code",
        "colab": {}
      },
      "source": [
        "import sklearn\n",
        "from sklearn.metrics import r2_score\n",
        "from sklearn.metrics import mean_absolute_error\n",
        "from sklearn.metrics import mean_squared_error"
      ],
      "execution_count": null,
      "outputs": []
    },
    {
      "cell_type": "code",
      "metadata": {
        "id": "AIx1xzHNt6GZ",
        "colab_type": "code",
        "colab": {}
      },
      "source": [
        "expected=Y_CASES[20:29]\n",
        "predictions = prediction[-9:]\n",
        "\n",
        "# forecast errors\n",
        "forecast_errors = [expected[i]-predictions[i] for i in range(len(expected))]\n",
        "#print('Forecast Errors:',forecast_errors)\n",
        "\n",
        "# forecast bias (mean forecast error)\n",
        "mean_forecast_error = np.mean(forecast_errors)\n",
        "print('Mean Forecast Error (Bias) : %.4f' % mean_forecast_error)\n",
        "\n",
        "# mean absolute error (MAE)\n",
        "#mean_absolute_error = np.mean(np.abs(forecast_error))\n",
        "mean_absolute_error = sklearn.metrics.mean_absolute_error(expected, predictions)\n",
        "print(\"Mean Absolute Error (MAE) : %.4f\"% mean_absolute_error)\n",
        "\n",
        "# mean squared error (MSE)\n",
        "mse = np.linalg.norm(Y_CASES[-10:] - np.array(prediction[-10:]))**2/len(Y_CASES[-10:])\n",
        "print('Mean Squared Error (MSE): %.4f' % mse)\n",
        "\n",
        "# Root Mean Squared Error (RMSE)\n",
        "rmse = np.sqrt(mse)\n",
        "print('Root Mean Squared Error (RMSE) : %.4f' % rmse)\n",
        "\n",
        "# R-squared\n",
        "r2=r2_score(expected, predictions)\n",
        "print('R-squared (R^2) : %.4f' % r2)\n",
        "\n",
        "# Correlation r\n",
        "r=np.corrcoef(predictions, expected)\n",
        "print(\"Correlation : %.4f\" % r[0,1])\n",
        "\n",
        "# MAPE - Mean Absolute Percentage Error\n",
        "def mean_absolute_percentage_error(expected, predictions): \n",
        "    expected, predictions = np.array(expected), np.array(predictions)\n",
        "    return np.mean(np.abs((expected - predictions) / expected)) * 100\n",
        "print(\"Mean Absolute Percentage Error (MAPE) : %.4f\"% mean_absolute_percentage_error(expected, predictions))"
      ],
      "execution_count": null,
      "outputs": []
    }
  ]
}